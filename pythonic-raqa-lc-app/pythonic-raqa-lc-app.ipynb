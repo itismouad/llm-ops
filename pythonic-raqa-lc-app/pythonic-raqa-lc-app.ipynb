{
 "cells": [
  {
   "cell_type": "code",
   "execution_count": 1,
   "metadata": {},
   "outputs": [
    {
     "name": "stdout",
     "output_type": "stream",
     "text": [
      "Requirement already satisfied: chainlit==0.7.700 in /Users/mouadhadji/anaconda3/envs/llmops-env/lib/python3.11/site-packages (from -r requirements.txt (line 1)) (0.7.700)\n",
      "Requirement already satisfied: langchain==0.0.350 in /Users/mouadhadji/anaconda3/envs/llmops-env/lib/python3.11/site-packages (from -r requirements.txt (line 2)) (0.0.350)\n",
      "Requirement already satisfied: openai==0.27.8 in /Users/mouadhadji/anaconda3/envs/llmops-env/lib/python3.11/site-packages (from -r requirements.txt (line 3)) (0.27.8)\n",
      "Requirement already satisfied: tiktoken==0.4.0 in /Users/mouadhadji/anaconda3/envs/llmops-env/lib/python3.11/site-packages (from -r requirements.txt (line 4)) (0.4.0)\n",
      "Requirement already satisfied: faiss-cpu==1.7.4 in /Users/mouadhadji/anaconda3/envs/llmops-env/lib/python3.11/site-packages (from -r requirements.txt (line 6)) (1.7.4)\n",
      "Requirement already satisfied: pinecone-client in /Users/mouadhadji/anaconda3/envs/llmops-env/lib/python3.11/site-packages (from -r requirements.txt (line 7)) (2.2.4)\n",
      "Requirement already satisfied: arxiv in /Users/mouadhadji/anaconda3/envs/llmops-env/lib/python3.11/site-packages (from -r requirements.txt (line 8)) (2.0.0)\n",
      "Requirement already satisfied: pypdf in /Users/mouadhadji/anaconda3/envs/llmops-env/lib/python3.11/site-packages (from -r requirements.txt (line 9)) (3.17.2)\n",
      "Requirement already satisfied: aiofiles<24.0.0,>=23.1.0 in /Users/mouadhadji/anaconda3/envs/llmops-env/lib/python3.11/site-packages (from chainlit==0.7.700->-r requirements.txt (line 1)) (23.2.1)\n",
      "Requirement already satisfied: asyncer<0.0.3,>=0.0.2 in /Users/mouadhadji/anaconda3/envs/llmops-env/lib/python3.11/site-packages (from chainlit==0.7.700->-r requirements.txt (line 1)) (0.0.2)\n",
      "Requirement already satisfied: click<9.0.0,>=8.1.3 in /Users/mouadhadji/anaconda3/envs/llmops-env/lib/python3.11/site-packages (from chainlit==0.7.700->-r requirements.txt (line 1)) (8.1.7)\n",
      "Requirement already satisfied: dataclasses_json<0.6.0,>=0.5.7 in /Users/mouadhadji/anaconda3/envs/llmops-env/lib/python3.11/site-packages (from chainlit==0.7.700->-r requirements.txt (line 1)) (0.5.14)\n",
      "Requirement already satisfied: fastapi<0.101,>=0.100 in /Users/mouadhadji/anaconda3/envs/llmops-env/lib/python3.11/site-packages (from chainlit==0.7.700->-r requirements.txt (line 1)) (0.100.1)\n",
      "Requirement already satisfied: fastapi-socketio<0.0.11,>=0.0.10 in /Users/mouadhadji/anaconda3/envs/llmops-env/lib/python3.11/site-packages (from chainlit==0.7.700->-r requirements.txt (line 1)) (0.0.10)\n",
      "Requirement already satisfied: filetype<2.0.0,>=1.2.0 in /Users/mouadhadji/anaconda3/envs/llmops-env/lib/python3.11/site-packages (from chainlit==0.7.700->-r requirements.txt (line 1)) (1.2.0)\n",
      "Requirement already satisfied: httpx<0.25.0,>=0.23.0 in /Users/mouadhadji/anaconda3/envs/llmops-env/lib/python3.11/site-packages (from chainlit==0.7.700->-r requirements.txt (line 1)) (0.24.1)\n",
      "Requirement already satisfied: lazify<0.5.0,>=0.4.0 in /Users/mouadhadji/anaconda3/envs/llmops-env/lib/python3.11/site-packages (from chainlit==0.7.700->-r requirements.txt (line 1)) (0.4.0)\n",
      "Requirement already satisfied: nest-asyncio<2.0.0,>=1.5.6 in /Users/mouadhadji/anaconda3/envs/llmops-env/lib/python3.11/site-packages (from chainlit==0.7.700->-r requirements.txt (line 1)) (1.5.8)\n",
      "Requirement already satisfied: packaging<24.0,>=23.1 in /Users/mouadhadji/anaconda3/envs/llmops-env/lib/python3.11/site-packages (from chainlit==0.7.700->-r requirements.txt (line 1)) (23.2)\n",
      "Requirement already satisfied: pydantic<3,>=1 in /Users/mouadhadji/anaconda3/envs/llmops-env/lib/python3.11/site-packages (from chainlit==0.7.700->-r requirements.txt (line 1)) (1.10.13)\n",
      "Requirement already satisfied: pyjwt<3.0.0,>=2.8.0 in /Users/mouadhadji/anaconda3/envs/llmops-env/lib/python3.11/site-packages (from chainlit==0.7.700->-r requirements.txt (line 1)) (2.8.0)\n",
      "Requirement already satisfied: python-dotenv<2.0.0,>=1.0.0 in /Users/mouadhadji/anaconda3/envs/llmops-env/lib/python3.11/site-packages (from chainlit==0.7.700->-r requirements.txt (line 1)) (1.0.0)\n",
      "Requirement already satisfied: python-graphql-client<0.5.0,>=0.4.3 in /Users/mouadhadji/anaconda3/envs/llmops-env/lib/python3.11/site-packages (from chainlit==0.7.700->-r requirements.txt (line 1)) (0.4.3)\n",
      "Requirement already satisfied: python-multipart<0.0.7,>=0.0.6 in /Users/mouadhadji/anaconda3/envs/llmops-env/lib/python3.11/site-packages (from chainlit==0.7.700->-r requirements.txt (line 1)) (0.0.6)\n",
      "Requirement already satisfied: syncer<3.0.0,>=2.0.3 in /Users/mouadhadji/anaconda3/envs/llmops-env/lib/python3.11/site-packages (from chainlit==0.7.700->-r requirements.txt (line 1)) (2.0.3)\n",
      "Requirement already satisfied: tomli<3.0.0,>=2.0.1 in /Users/mouadhadji/anaconda3/envs/llmops-env/lib/python3.11/site-packages (from chainlit==0.7.700->-r requirements.txt (line 1)) (2.0.1)\n",
      "Requirement already satisfied: uptrace<2.0.0,>=1.18.0 in /Users/mouadhadji/anaconda3/envs/llmops-env/lib/python3.11/site-packages (from chainlit==0.7.700->-r requirements.txt (line 1)) (1.21.0)\n",
      "Requirement already satisfied: uvicorn<0.24.0,>=0.23.2 in /Users/mouadhadji/anaconda3/envs/llmops-env/lib/python3.11/site-packages (from chainlit==0.7.700->-r requirements.txt (line 1)) (0.23.2)\n",
      "Requirement already satisfied: watchfiles<0.21.0,>=0.20.0 in /Users/mouadhadji/anaconda3/envs/llmops-env/lib/python3.11/site-packages (from chainlit==0.7.700->-r requirements.txt (line 1)) (0.20.0)\n",
      "Requirement already satisfied: PyYAML>=5.3 in /Users/mouadhadji/anaconda3/envs/llmops-env/lib/python3.11/site-packages (from langchain==0.0.350->-r requirements.txt (line 2)) (6.0.1)\n",
      "Requirement already satisfied: SQLAlchemy<3,>=1.4 in /Users/mouadhadji/anaconda3/envs/llmops-env/lib/python3.11/site-packages (from langchain==0.0.350->-r requirements.txt (line 2)) (2.0.23)\n",
      "Requirement already satisfied: aiohttp<4.0.0,>=3.8.3 in /Users/mouadhadji/anaconda3/envs/llmops-env/lib/python3.11/site-packages (from langchain==0.0.350->-r requirements.txt (line 2)) (3.9.1)\n",
      "Requirement already satisfied: jsonpatch<2.0,>=1.33 in /Users/mouadhadji/anaconda3/envs/llmops-env/lib/python3.11/site-packages (from langchain==0.0.350->-r requirements.txt (line 2)) (1.33)\n",
      "Requirement already satisfied: langchain-community<0.1,>=0.0.2 in /Users/mouadhadji/anaconda3/envs/llmops-env/lib/python3.11/site-packages (from langchain==0.0.350->-r requirements.txt (line 2)) (0.0.3)\n",
      "Requirement already satisfied: langchain-core<0.2,>=0.1 in /Users/mouadhadji/anaconda3/envs/llmops-env/lib/python3.11/site-packages (from langchain==0.0.350->-r requirements.txt (line 2)) (0.1.0)\n",
      "Requirement already satisfied: langsmith<0.1.0,>=0.0.63 in /Users/mouadhadji/anaconda3/envs/llmops-env/lib/python3.11/site-packages (from langchain==0.0.350->-r requirements.txt (line 2)) (0.0.70)\n",
      "Requirement already satisfied: numpy<2,>=1 in /Users/mouadhadji/anaconda3/envs/llmops-env/lib/python3.11/site-packages (from langchain==0.0.350->-r requirements.txt (line 2)) (1.26.2)\n",
      "Requirement already satisfied: requests<3,>=2 in /Users/mouadhadji/anaconda3/envs/llmops-env/lib/python3.11/site-packages (from langchain==0.0.350->-r requirements.txt (line 2)) (2.31.0)\n",
      "Requirement already satisfied: tenacity<9.0.0,>=8.1.0 in /Users/mouadhadji/anaconda3/envs/llmops-env/lib/python3.11/site-packages (from langchain==0.0.350->-r requirements.txt (line 2)) (8.2.3)\n",
      "Requirement already satisfied: tqdm in /Users/mouadhadji/anaconda3/envs/llmops-env/lib/python3.11/site-packages (from openai==0.27.8->-r requirements.txt (line 3)) (4.66.1)\n",
      "Requirement already satisfied: regex>=2022.1.18 in /Users/mouadhadji/anaconda3/envs/llmops-env/lib/python3.11/site-packages (from tiktoken==0.4.0->-r requirements.txt (line 4)) (2023.10.3)\n",
      "Requirement already satisfied: loguru>=0.5.0 in /Users/mouadhadji/anaconda3/envs/llmops-env/lib/python3.11/site-packages (from pinecone-client->-r requirements.txt (line 7)) (0.7.2)\n",
      "Requirement already satisfied: typing-extensions>=3.7.4 in /Users/mouadhadji/anaconda3/envs/llmops-env/lib/python3.11/site-packages (from pinecone-client->-r requirements.txt (line 7)) (4.8.0)\n",
      "Requirement already satisfied: dnspython>=2.0.0 in /Users/mouadhadji/anaconda3/envs/llmops-env/lib/python3.11/site-packages (from pinecone-client->-r requirements.txt (line 7)) (2.4.2)\n",
      "Requirement already satisfied: python-dateutil>=2.5.3 in /Users/mouadhadji/anaconda3/envs/llmops-env/lib/python3.11/site-packages (from pinecone-client->-r requirements.txt (line 7)) (2.8.2)\n",
      "Requirement already satisfied: urllib3>=1.21.1 in /Users/mouadhadji/anaconda3/envs/llmops-env/lib/python3.11/site-packages (from pinecone-client->-r requirements.txt (line 7)) (2.1.0)\n",
      "Requirement already satisfied: feedparser==6.0.10 in /Users/mouadhadji/anaconda3/envs/llmops-env/lib/python3.11/site-packages (from arxiv->-r requirements.txt (line 8)) (6.0.10)\n",
      "Requirement already satisfied: sgmllib3k in /Users/mouadhadji/anaconda3/envs/llmops-env/lib/python3.11/site-packages (from feedparser==6.0.10->arxiv->-r requirements.txt (line 8)) (1.0.0)\n",
      "Requirement already satisfied: charset-normalizer<4,>=2 in /Users/mouadhadji/anaconda3/envs/llmops-env/lib/python3.11/site-packages (from requests<3,>=2->langchain==0.0.350->-r requirements.txt (line 2)) (3.3.2)\n",
      "Requirement already satisfied: idna<4,>=2.5 in /Users/mouadhadji/anaconda3/envs/llmops-env/lib/python3.11/site-packages (from requests<3,>=2->langchain==0.0.350->-r requirements.txt (line 2)) (3.6)\n",
      "Requirement already satisfied: certifi>=2017.4.17 in /Users/mouadhadji/anaconda3/envs/llmops-env/lib/python3.11/site-packages (from requests<3,>=2->langchain==0.0.350->-r requirements.txt (line 2)) (2023.11.17)\n",
      "Requirement already satisfied: attrs>=17.3.0 in /Users/mouadhadji/anaconda3/envs/llmops-env/lib/python3.11/site-packages (from aiohttp<4.0.0,>=3.8.3->langchain==0.0.350->-r requirements.txt (line 2)) (23.1.0)\n",
      "Requirement already satisfied: multidict<7.0,>=4.5 in /Users/mouadhadji/anaconda3/envs/llmops-env/lib/python3.11/site-packages (from aiohttp<4.0.0,>=3.8.3->langchain==0.0.350->-r requirements.txt (line 2)) (6.0.4)\n",
      "Requirement already satisfied: yarl<2.0,>=1.0 in /Users/mouadhadji/anaconda3/envs/llmops-env/lib/python3.11/site-packages (from aiohttp<4.0.0,>=3.8.3->langchain==0.0.350->-r requirements.txt (line 2)) (1.9.3)\n",
      "Requirement already satisfied: frozenlist>=1.1.1 in /Users/mouadhadji/anaconda3/envs/llmops-env/lib/python3.11/site-packages (from aiohttp<4.0.0,>=3.8.3->langchain==0.0.350->-r requirements.txt (line 2)) (1.4.0)\n",
      "Requirement already satisfied: aiosignal>=1.1.2 in /Users/mouadhadji/anaconda3/envs/llmops-env/lib/python3.11/site-packages (from aiohttp<4.0.0,>=3.8.3->langchain==0.0.350->-r requirements.txt (line 2)) (1.3.1)\n",
      "Requirement already satisfied: anyio<4.0.0,>=3.4.0 in /Users/mouadhadji/anaconda3/envs/llmops-env/lib/python3.11/site-packages (from asyncer<0.0.3,>=0.0.2->chainlit==0.7.700->-r requirements.txt (line 1)) (3.7.1)\n",
      "Requirement already satisfied: marshmallow<4.0.0,>=3.18.0 in /Users/mouadhadji/anaconda3/envs/llmops-env/lib/python3.11/site-packages (from dataclasses_json<0.6.0,>=0.5.7->chainlit==0.7.700->-r requirements.txt (line 1)) (3.20.1)\n",
      "Requirement already satisfied: typing-inspect<1,>=0.4.0 in /Users/mouadhadji/anaconda3/envs/llmops-env/lib/python3.11/site-packages (from dataclasses_json<0.6.0,>=0.5.7->chainlit==0.7.700->-r requirements.txt (line 1)) (0.9.0)\n",
      "Requirement already satisfied: starlette<0.28.0,>=0.27.0 in /Users/mouadhadji/anaconda3/envs/llmops-env/lib/python3.11/site-packages (from fastapi<0.101,>=0.100->chainlit==0.7.700->-r requirements.txt (line 1)) (0.27.0)\n",
      "Requirement already satisfied: python-socketio>=4.6.0 in /Users/mouadhadji/anaconda3/envs/llmops-env/lib/python3.11/site-packages (from fastapi-socketio<0.0.11,>=0.0.10->chainlit==0.7.700->-r requirements.txt (line 1)) (5.10.0)\n",
      "Requirement already satisfied: httpcore<0.18.0,>=0.15.0 in /Users/mouadhadji/anaconda3/envs/llmops-env/lib/python3.11/site-packages (from httpx<0.25.0,>=0.23.0->chainlit==0.7.700->-r requirements.txt (line 1)) (0.17.3)\n",
      "Requirement already satisfied: sniffio in /Users/mouadhadji/anaconda3/envs/llmops-env/lib/python3.11/site-packages (from httpx<0.25.0,>=0.23.0->chainlit==0.7.700->-r requirements.txt (line 1)) (1.3.0)\n",
      "Requirement already satisfied: jsonpointer>=1.9 in /Users/mouadhadji/anaconda3/envs/llmops-env/lib/python3.11/site-packages (from jsonpatch<2.0,>=1.33->langchain==0.0.350->-r requirements.txt (line 2)) (2.4)\n",
      "Requirement already satisfied: six>=1.5 in /Users/mouadhadji/anaconda3/envs/llmops-env/lib/python3.11/site-packages (from python-dateutil>=2.5.3->pinecone-client->-r requirements.txt (line 7)) (1.16.0)\n",
      "Requirement already satisfied: websockets>=5.0 in /Users/mouadhadji/anaconda3/envs/llmops-env/lib/python3.11/site-packages (from python-graphql-client<0.5.0,>=0.4.3->chainlit==0.7.700->-r requirements.txt (line 1)) (12.0)\n",
      "Requirement already satisfied: opentelemetry-api~=1.21 in /Users/mouadhadji/anaconda3/envs/llmops-env/lib/python3.11/site-packages (from uptrace<2.0.0,>=1.18.0->chainlit==0.7.700->-r requirements.txt (line 1)) (1.21.0)\n",
      "Requirement already satisfied: opentelemetry-exporter-otlp~=1.21 in /Users/mouadhadji/anaconda3/envs/llmops-env/lib/python3.11/site-packages (from uptrace<2.0.0,>=1.18.0->chainlit==0.7.700->-r requirements.txt (line 1)) (1.21.0)\n",
      "Requirement already satisfied: opentelemetry-instrumentation~=0.42b0 in /Users/mouadhadji/anaconda3/envs/llmops-env/lib/python3.11/site-packages (from uptrace<2.0.0,>=1.18.0->chainlit==0.7.700->-r requirements.txt (line 1)) (0.42b0)\n",
      "Requirement already satisfied: opentelemetry-sdk~=1.21 in /Users/mouadhadji/anaconda3/envs/llmops-env/lib/python3.11/site-packages (from uptrace<2.0.0,>=1.18.0->chainlit==0.7.700->-r requirements.txt (line 1)) (1.21.0)\n",
      "Requirement already satisfied: h11>=0.8 in /Users/mouadhadji/anaconda3/envs/llmops-env/lib/python3.11/site-packages (from uvicorn<0.24.0,>=0.23.2->chainlit==0.7.700->-r requirements.txt (line 1)) (0.14.0)\n",
      "Requirement already satisfied: deprecated>=1.2.6 in /Users/mouadhadji/anaconda3/envs/llmops-env/lib/python3.11/site-packages (from opentelemetry-api~=1.21->uptrace<2.0.0,>=1.18.0->chainlit==0.7.700->-r requirements.txt (line 1)) (1.2.14)\n",
      "Requirement already satisfied: importlib-metadata<7.0,>=6.0 in /Users/mouadhadji/anaconda3/envs/llmops-env/lib/python3.11/site-packages (from opentelemetry-api~=1.21->uptrace<2.0.0,>=1.18.0->chainlit==0.7.700->-r requirements.txt (line 1)) (6.11.0)\n",
      "Requirement already satisfied: opentelemetry-exporter-otlp-proto-grpc==1.21.0 in /Users/mouadhadji/anaconda3/envs/llmops-env/lib/python3.11/site-packages (from opentelemetry-exporter-otlp~=1.21->uptrace<2.0.0,>=1.18.0->chainlit==0.7.700->-r requirements.txt (line 1)) (1.21.0)\n",
      "Requirement already satisfied: opentelemetry-exporter-otlp-proto-http==1.21.0 in /Users/mouadhadji/anaconda3/envs/llmops-env/lib/python3.11/site-packages (from opentelemetry-exporter-otlp~=1.21->uptrace<2.0.0,>=1.18.0->chainlit==0.7.700->-r requirements.txt (line 1)) (1.21.0)\n",
      "Requirement already satisfied: backoff<3.0.0,>=1.10.0 in /Users/mouadhadji/anaconda3/envs/llmops-env/lib/python3.11/site-packages (from opentelemetry-exporter-otlp-proto-grpc==1.21.0->opentelemetry-exporter-otlp~=1.21->uptrace<2.0.0,>=1.18.0->chainlit==0.7.700->-r requirements.txt (line 1)) (2.2.1)\n",
      "Requirement already satisfied: googleapis-common-protos~=1.52 in /Users/mouadhadji/anaconda3/envs/llmops-env/lib/python3.11/site-packages (from opentelemetry-exporter-otlp-proto-grpc==1.21.0->opentelemetry-exporter-otlp~=1.21->uptrace<2.0.0,>=1.18.0->chainlit==0.7.700->-r requirements.txt (line 1)) (1.61.0)\n",
      "Requirement already satisfied: grpcio<2.0.0,>=1.0.0 in /Users/mouadhadji/anaconda3/envs/llmops-env/lib/python3.11/site-packages (from opentelemetry-exporter-otlp-proto-grpc==1.21.0->opentelemetry-exporter-otlp~=1.21->uptrace<2.0.0,>=1.18.0->chainlit==0.7.700->-r requirements.txt (line 1)) (1.59.3)\n",
      "Requirement already satisfied: opentelemetry-exporter-otlp-proto-common==1.21.0 in /Users/mouadhadji/anaconda3/envs/llmops-env/lib/python3.11/site-packages (from opentelemetry-exporter-otlp-proto-grpc==1.21.0->opentelemetry-exporter-otlp~=1.21->uptrace<2.0.0,>=1.18.0->chainlit==0.7.700->-r requirements.txt (line 1)) (1.21.0)\n",
      "Requirement already satisfied: opentelemetry-proto==1.21.0 in /Users/mouadhadji/anaconda3/envs/llmops-env/lib/python3.11/site-packages (from opentelemetry-exporter-otlp-proto-grpc==1.21.0->opentelemetry-exporter-otlp~=1.21->uptrace<2.0.0,>=1.18.0->chainlit==0.7.700->-r requirements.txt (line 1)) (1.21.0)\n",
      "Requirement already satisfied: protobuf<5.0,>=3.19 in /Users/mouadhadji/anaconda3/envs/llmops-env/lib/python3.11/site-packages (from opentelemetry-proto==1.21.0->opentelemetry-exporter-otlp-proto-grpc==1.21.0->opentelemetry-exporter-otlp~=1.21->uptrace<2.0.0,>=1.18.0->chainlit==0.7.700->-r requirements.txt (line 1)) (3.20.3)\n",
      "Requirement already satisfied: setuptools>=16.0 in /Users/mouadhadji/anaconda3/envs/llmops-env/lib/python3.11/site-packages (from opentelemetry-instrumentation~=0.42b0->uptrace<2.0.0,>=1.18.0->chainlit==0.7.700->-r requirements.txt (line 1)) (68.0.0)\n",
      "Requirement already satisfied: wrapt<2.0.0,>=1.0.0 in /Users/mouadhadji/anaconda3/envs/llmops-env/lib/python3.11/site-packages (from opentelemetry-instrumentation~=0.42b0->uptrace<2.0.0,>=1.18.0->chainlit==0.7.700->-r requirements.txt (line 1)) (1.16.0)\n",
      "Requirement already satisfied: opentelemetry-semantic-conventions==0.42b0 in /Users/mouadhadji/anaconda3/envs/llmops-env/lib/python3.11/site-packages (from opentelemetry-sdk~=1.21->uptrace<2.0.0,>=1.18.0->chainlit==0.7.700->-r requirements.txt (line 1)) (0.42b0)\n",
      "Requirement already satisfied: bidict>=0.21.0 in /Users/mouadhadji/anaconda3/envs/llmops-env/lib/python3.11/site-packages (from python-socketio>=4.6.0->fastapi-socketio<0.0.11,>=0.0.10->chainlit==0.7.700->-r requirements.txt (line 1)) (0.22.1)\n",
      "Requirement already satisfied: python-engineio>=4.8.0 in /Users/mouadhadji/anaconda3/envs/llmops-env/lib/python3.11/site-packages (from python-socketio>=4.6.0->fastapi-socketio<0.0.11,>=0.0.10->chainlit==0.7.700->-r requirements.txt (line 1)) (4.8.0)\n",
      "Requirement already satisfied: mypy-extensions>=0.3.0 in /Users/mouadhadji/anaconda3/envs/llmops-env/lib/python3.11/site-packages (from typing-inspect<1,>=0.4.0->dataclasses_json<0.6.0,>=0.5.7->chainlit==0.7.700->-r requirements.txt (line 1)) (1.0.0)\n",
      "Requirement already satisfied: zipp>=0.5 in /Users/mouadhadji/anaconda3/envs/llmops-env/lib/python3.11/site-packages (from importlib-metadata<7.0,>=6.0->opentelemetry-api~=1.21->uptrace<2.0.0,>=1.18.0->chainlit==0.7.700->-r requirements.txt (line 1)) (3.17.0)\n",
      "Requirement already satisfied: simple-websocket>=0.10.0 in /Users/mouadhadji/anaconda3/envs/llmops-env/lib/python3.11/site-packages (from python-engineio>=4.8.0->python-socketio>=4.6.0->fastapi-socketio<0.0.11,>=0.0.10->chainlit==0.7.700->-r requirements.txt (line 1)) (1.0.0)\n",
      "Requirement already satisfied: wsproto in /Users/mouadhadji/anaconda3/envs/llmops-env/lib/python3.11/site-packages (from simple-websocket>=0.10.0->python-engineio>=4.8.0->python-socketio>=4.6.0->fastapi-socketio<0.0.11,>=0.0.10->chainlit==0.7.700->-r requirements.txt (line 1)) (1.2.0)\n"
     ]
    }
   ],
   "source": [
    "!pip install -r requirements.txt"
   ]
  },
  {
   "cell_type": "code",
   "execution_count": 2,
   "metadata": {},
   "outputs": [
    {
     "name": "stdout",
     "output_type": "stream",
     "text": [
      "2023-12-14 14:04:46 - Loaded .env file\n"
     ]
    },
    {
     "name": "stderr",
     "output_type": "stream",
     "text": [
      "/Users/mouadhadji/anaconda3/envs/llmops-env/lib/python3.11/site-packages/pinecone/index.py:4: TqdmExperimentalWarning: Using `tqdm.autonotebook.tqdm` in notebook mode. Use `tqdm.tqdm` instead to force console mode (e.g. in jupyter console)\n",
      "  from tqdm.autonotebook import tqdm\n"
     ]
    }
   ],
   "source": [
    "import chainlit as cl\n",
    "\n",
    "from langchain.embeddings.openai import OpenAIEmbeddings\n",
    "\n",
    "from langchain.vectorstores import FAISS\n",
    "from langchain.chains import RetrievalQA\n",
    "from langchain.chat_models import ChatOpenAI\n",
    "from langchain.storage import LocalFileStore\n",
    "from langchain.prompts.chat import (\n",
    "    ChatPromptTemplate,\n",
    "    SystemMessagePromptTemplate,\n",
    "    HumanMessagePromptTemplate,\n",
    ")\n",
    "\n",
    "from utils import ArxivLoader, PineconeIndexer"
   ]
  },
  {
   "cell_type": "code",
   "execution_count": 3,
   "metadata": {},
   "outputs": [],
   "source": [
    "system_template = \"\"\"\n",
    "Use the provided context to answer the user's query.\n",
    "\n",
    "You may not answer the user's query unless there is specific context in the following text.\n",
    "\n",
    "If you do not know the answer, or cannot answer, please respond with \"I don't know\".\n",
    "\n",
    "Context:\n",
    "{context}\n",
    "\"\"\""
   ]
  },
  {
   "cell_type": "code",
   "execution_count": 4,
   "metadata": {},
   "outputs": [],
   "source": [
    "messages = [\n",
    "    SystemMessagePromptTemplate.from_template(system_template),\n",
    "    HumanMessagePromptTemplate.from_template(\"{question}\"),\n",
    "]\n",
    "\n",
    "prompt = ChatPromptTemplate(messages=messages)\n",
    "chain_type_kwargs = {\"prompt\": prompt}"
   ]
  },
  {
   "cell_type": "code",
   "execution_count": 5,
   "metadata": {},
   "outputs": [
    {
     "name": "stdout",
     "output_type": "stream",
     "text": [
      "2023-12-14 14:04:52 - Requesting page (first: True, try: 0): https://export.arxiv.org/api/query?search_query=Nuclear+Fission&id_list=&sortBy=relevance&sortOrder=descending&start=0&max_results=100\n",
      "2023-12-14 14:04:54 - Got first page: 100 of 100362 total results\n"
     ]
    }
   ],
   "source": [
    "# load documents from Arxiv\n",
    "axloader = ArxivLoader()\n",
    "axloader.main()"
   ]
  },
  {
   "cell_type": "code",
   "execution_count": 6,
   "metadata": {},
   "outputs": [
    {
     "data": {
      "text/plain": [
       "5"
      ]
     },
     "execution_count": 6,
     "metadata": {},
     "output_type": "execute_result"
    }
   ],
   "source": [
    "len(axloader.documents)"
   ]
  },
  {
   "cell_type": "code",
   "execution_count": 9,
   "metadata": {},
   "outputs": [],
   "source": [
    "import pinecone"
   ]
  },
  {
   "cell_type": "code",
   "execution_count": 16,
   "metadata": {},
   "outputs": [],
   "source": [
    "try: \n",
    "    pinecone.delete_index('arxiv-paper-index')\n",
    "except:\n",
    "    pass"
   ]
  },
  {
   "cell_type": "code",
   "execution_count": 17,
   "metadata": {},
   "outputs": [],
   "source": [
    "# build index in Pinecone\n",
    "pi = PineconeIndexer()\n",
    "pi.load_embedder()"
   ]
  },
  {
   "cell_type": "code",
   "execution_count": 18,
   "metadata": {},
   "outputs": [
    {
     "data": {
      "application/vnd.jupyter.widget-view+json": {
       "model_id": "3499d9eaebfa4e409aa067415d405cdd",
       "version_major": 2,
       "version_minor": 0
      },
      "text/plain": [
       "  0%|          | 0/5 [00:00<?, ?it/s]"
      ]
     },
     "metadata": {},
     "output_type": "display_data"
    }
   ],
   "source": [
    "pi.index_documents(axloader.documents)"
   ]
  },
  {
   "cell_type": "code",
   "execution_count": 18,
   "metadata": {},
   "outputs": [
    {
     "data": {
      "text/plain": [
       "IndexDescription(name='arxiv-paper-index', metric='cosine', replicas=1, dimension=1536.0, shards=1, pods=1, pod_type='starter', status={'ready': True, 'state': 'Ready'}, metadata_config=None, source_collection='')"
      ]
     },
     "execution_count": 18,
     "metadata": {},
     "output_type": "execute_result"
    }
   ],
   "source": [
    "pinecone.describe_index('arxiv-paper-index')"
   ]
  },
  {
   "cell_type": "code",
   "execution_count": 19,
   "metadata": {},
   "outputs": [],
   "source": [
    "llm = ChatOpenAI(\n",
    "        model=\"gpt-3.5-turbo\",\n",
    "        temperature=0\n",
    "    )"
   ]
  },
  {
   "cell_type": "code",
   "execution_count": 20,
   "metadata": {},
   "outputs": [
    {
     "name": "stderr",
     "output_type": "stream",
     "text": [
      "/Users/mouadhadji/anaconda3/envs/llmops-env/lib/python3.11/site-packages/langchain_community/vectorstores/pinecone.py:62: UserWarning: Passing in `embedding` as a Callable is deprecated. Please pass in an Embeddings object instead.\n",
      "  warnings.warn(\n"
     ]
    }
   ],
   "source": [
    "chain = RetrievalQA.from_chain_type(\n",
    "        llm,\n",
    "        chain_type=\"stuff\",\n",
    "        return_source_documents=True,\n",
    "        retriever=pi.get_vectorstore().as_retriever(),\n",
    "        chain_type_kwargs = {\"prompt\": prompt}\n",
    "    )"
   ]
  },
  {
   "cell_type": "code",
   "execution_count": 21,
   "metadata": {},
   "outputs": [
    {
     "name": "stderr",
     "output_type": "stream",
     "text": [
      "/Users/mouadhadji/anaconda3/envs/llmops-env/lib/python3.11/site-packages/langchain_community/vectorstores/pinecone.py:62: UserWarning: Passing in `embedding` as a Callable is deprecated. Please pass in an Embeddings object instead.\n",
      "  warnings.warn(\n"
     ]
    },
    {
     "data": {
      "text/plain": [
       "[Document(page_content='89, 014323 (2014).\\n[10] H.J. KrappeandK.Pomorski, TheoryofNuclear Fission\\n(Springer-Verlag, Berlin 2012).\\n[11] J.S. Langer, Ann. Phys. (N.Y.) 41, 108(1967).\\n[12] I. Aﬄeck, Phys. Rev. Lett 46, 388 (1981).\\n[13] K. Hagino, N. Takigawa, and M. Abe, Phys. Rev. C 53,\\n1840 (1996).\\n[14] M. Kryvohuz, J. Chem. Phys. 134, 114103(2011).\\n[15] A. L. Goodman, Nucl. Phys. A 352, 30 (1981).\\n[16] J. L. Egido, L. M. Robledo, V. Martin, Phys. Rev. Lett\\n85, 26 (2000).\\n[17] J. C. Pei, W. Nazarewicz, J. A. Sheikh, and A. K. Ker-\\nman, Phys. Rev. Lett 102, 192501 (2009).\\n[18] Y. Zhu and J.C. Pei, Phys. Rev. C 90, 054316(2014).\\n[19] J. C. Pei, W. Nazarewicz, J. A. Sheikh, and A. K. Ker-\\nman, Nucl. Phys. A 834, 381c (2010).\\n[20] J. O. Newton, D. G. Popescu, and J. R. Leigh, Phys.\\nRev. C 42, 1772(1990).\\n[21] M. G. Itkis, Yu. Ts. Oganessian, and V. I. Zagrebaev,\\nPhys. Rev. C 65, 044602(2002).\\n[22] C.J. Xia, B.X. Sun, E.G. Zhao, S.G. Zhou, Sci. China\\nPhys. Mech. Astron. 54, 109(2011).', metadata={'chunk': 2.0, 'page_number': 9.0, 'source_document': 'http://arxiv.org/pdf/1605.04522v2'}),\n",
       " Document(page_content='the ﬁssion processis graduallyevolvedfrom the quantum\\ntunneling to the statistical escape mechanism. For appli-\\ncations, the thermal ﬁssion has a wide range of interests\\nsuch as the neutron induced ﬁssion in reactors and in as-\\ntrophysical environments, and fusion reactions for super-\\n∗peij@pku.edu.cnheavy nuclei. Conventionally, the thermal ﬁssion is de-\\nscribed by the Bohr-Wheeler transition-state-theory and\\nlater the dynamical Kramers theory [10]. The imaginary\\nfree energy approach (Im F) is a general thermodynamic\\nmethod to calculate thermal quantum decay rates at all\\ntemperatures [11, 12], which has been widely applied to\\ndecays of metastable states such as nuclear ﬁssions [13]\\nand chemical reactions [14]. These methods rely on in-\\nputs of barriers or level densities, which are dependent\\non temperatures, deformations and shell structures. As\\na consequence, many corrections and associated param-\\neters have been introduced to interpret experimental re-', metadata={'chunk': 4.0, 'page_number': 0.0, 'source_document': 'http://arxiv.org/pdf/1605.04522v2'}),\n",
       " Document(page_content='[9] N.E. Holden and D.C. Hoﬀman, Pure Appl. Chem. 72\\n1525 (2000).\\n[10] S. Hilaire and S. Goriely, Nucl. Phys. A 779, 63 (2006).\\n[11] T.R. England and B.F. Rider, Technical Report LA-UR-\\n94-3106, ENDF-349, (Los Alamos National Laboratory,\\n1993);http://ie.lbl.gov/fission/endf349.pdf .\\n[12] The data are available in text form at\\nhttp://ie.lbl.gov/fission.html .\\n[13] F. G¨ onnenwein in “The Nuclear Fission Process,” Ed.\\nC.Wagemans, CRC Press, p.323 (1991).', metadata={'chunk': 1.0, 'page_number': 7.0, 'source_document': 'http://arxiv.org/pdf/1502.05985v1'}),\n",
       " Document(page_content='arXiv:1502.05985v1  [nucl-th]  20 Feb 2015Benchmarking Nuclear Fission Theory\\nG.F. Bertsch,1W. Loveland,2W. Nazarewicz,3and P. Talou4\\n1Department of Physics and Institute for Nuclear Theory,\\nUniversity of Washington, Seattle, Washington 98195, USA\\n2Department of Chemistry, Oregon State University, Corvall is, Oregon 97331, USA\\n3Department of Physics and Astronomy and NSCL/FRIB Laborato ry,\\nMichigan State University, East Lansing, Michigan 48824, U SA\\nPhysics Division, Oak Ridge National Laboratory, Oak Ridge , Tennessee 37831, USA\\n4Nuclear Physics Group, Theoretical Division, Los Alamos Na tional Laboratory, Los Alamos, New Mexico 87545, USA\\nWe suggest a small set of ﬁssion observables to be used as test cases for validation of theoretical\\ncalculations. The purpose is to provide common data to facil itate the comparison of diﬀerent ﬁssion\\ntheories and models. The proposed observables are chosen fr om ﬁssion barriers, spontaneous ﬁssion', metadata={'chunk': 0.0, 'page_number': 0.0, 'source_document': 'http://arxiv.org/pdf/1502.05985v1'})]"
      ]
     },
     "execution_count": 21,
     "metadata": {},
     "output_type": "execute_result"
    }
   ],
   "source": [
    "retriever=pi.get_vectorstore().as_retriever()\n",
    "retriever.invoke(\"What is nuclear fission?\")"
   ]
  },
  {
   "cell_type": "code",
   "execution_count": 22,
   "metadata": {},
   "outputs": [],
   "source": [
    "from operator import itemgetter\n",
    "from langchain.schema.runnable import RunnablePassthrough\n",
    "\n",
    "retrieval_augmented_qa_chain = (\n",
    "    {\"context\": itemgetter(\"question\") | retriever,\n",
    "     \"question\": itemgetter(\"question\")\n",
    "    }\n",
    "    | RunnablePassthrough.assign(\n",
    "        context=itemgetter(\"context\")\n",
    "      )\n",
    "    | {\n",
    "         \"response\": prompt  | llm,\n",
    "         \"context\": itemgetter(\"context\"),\n",
    "      }\n",
    ")"
   ]
  },
  {
   "cell_type": "code",
   "execution_count": 24,
   "metadata": {},
   "outputs": [],
   "source": [
    "answer = retrieval_augmented_qa_chain.invoke({\"question\" : \"What is Nuclear Fission ?\"})"
   ]
  },
  {
   "cell_type": "code",
   "execution_count": 26,
   "metadata": {},
   "outputs": [
    {
     "data": {
      "text/plain": [
       "'Nuclear fission is a process in which the nucleus of an atom is split into two or more smaller nuclei, along with the release of a large amount of energy. This process can occur spontaneously or can be induced by bombarding the nucleus with a neutron. Nuclear fission is the basis for nuclear power plants and nuclear weapons.'"
      ]
     },
     "execution_count": 26,
     "metadata": {},
     "output_type": "execute_result"
    }
   ],
   "source": [
    "answer[\"response\"].content"
   ]
  },
  {
   "cell_type": "code",
   "execution_count": null,
   "metadata": {},
   "outputs": [],
   "source": []
  }
 ],
 "metadata": {
  "kernelspec": {
   "display_name": "buildyourownlangchain",
   "language": "python",
   "name": "python3"
  },
  "language_info": {
   "codemirror_mode": {
    "name": "ipython",
    "version": 3
   },
   "file_extension": ".py",
   "mimetype": "text/x-python",
   "name": "python",
   "nbconvert_exporter": "python",
   "pygments_lexer": "ipython3",
   "version": "3.11.5"
  },
  "orig_nbformat": 4
 },
 "nbformat": 4,
 "nbformat_minor": 2
}
